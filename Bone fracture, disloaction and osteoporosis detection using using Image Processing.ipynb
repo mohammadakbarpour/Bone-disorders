{
  "nbformat": 4,
  "nbformat_minor": 0,
  "metadata": {
    "colab": {
      "provenance": []
    },
    "kernelspec": {
      "name": "python3",
      "display_name": "Python 3"
    },
    "language_info": {
      "name": "python"
    }
  },
  "cells": [
    {
      "cell_type": "markdown",
      "source": [
        "\n",
        "\n",
        "<div dir=\"ltr\" align=\"justify\">\n",
        "<h1>Bone fracture, disloaction and osteoporosis detection using using Image Processing</h1>\n",
        "\n",
        "</div>"
      ],
      "metadata": {
        "id": "f30wiMni0qVL"
      }
    },
    {
      "cell_type": "markdown",
      "source": [
        "<div dir=\"ltr\" align=\"justify\">\n",
        "<a href=\"https://ieeexplore.ieee.org/abstract/document/9395817\"><h2>A Survey on Bone Fracture Identification Techniques using Quantitative and Learning Based Algorithms</h2></a>\n",
        "Abstract:\n",
        "Machine learning algorithms help to deeply analyses and monitor the minor changes in the objects. In the medical image, a little doubtful value also creates a big transformation in the outcome, which will be sorted out using learning-based algorithms. In this discussion, a genetic bone disorder Fibrous Dysplasia (FD) is considered, which replaces the bone tissues with fibrous tissues which lead to bone fracture or bone deformity. In this paper, three different bone investigation approaches are taken for discussion as Bone Mineral Density (BMD), Quantitative Measures for bone for analyzing thickness and, Algorithm based models are used for abnormality detections. The BMD test is used to calculate the life span of the bone and estimated fractural risk. The second analysis begins with quantitative measurements on different imaging techniques, which are applied to bone scan images to monitor the abnormality. The important imaging techniques of Quantitative Computer Tomography, High Resolution based Peripheral QCT, Quantitative Ultra Sound and other techniques are discussed. In model-based techniques, which automatically extracts the essential features from the image and groups them based on similar behavior, and discover the abnormal features from the image set.\n",
        "\n",
        "</div>"
      ],
      "metadata": {
        "id": "2vWAHpz-1AVm"
      }
    },
    {
      "cell_type": "markdown",
      "source": [
        "<div dir=\"rtl\" align=\"justify\">\n",
        "<h2>عنوان مقاله: بررسی روش‌های شناسایی شکستگی استخوان با استفاده از الگوریتم‌های کمی و مبتنی بر یادگیری\n",
        "</h2>\n",
        "\n",
        "<div dir=\"rtl\" align=\"justify\">\n",
        "چکیده:\n",
        "الگوریتم‌های یادگیری ماشین به تحلیل عمیق تغییرات کوچک در اشیاء کمک می‌کنند. در تصویر پزشکی، حتی یک مقدار مشکوک هم تغییرات بزرگی در نتیجه ایجاد می‌کند که با استفاده از الگوریتم‌های مبتنی بر یادگیری برطرف می‌شود. در این بحث، اختلال ژنتیکی اختلال رشد استخوان به نام فیبروزیس دیسپلازیا (FD) مورد بررسی قرار می‌گیرد که با جایگزین کردن بافت استخوان با بافت فیبروزی به شکستگی یا اعوجاج استخوان منجر می‌شود. در این مقاله، سه رویکرد متفاوت برای بررسی استخوان انتخاب شده است، از جمله چگونگی تست چگالی معدن استخوان (BMD)، اندازه‌گیری کمی برای تحلیل ضخامت استخوان و استفاده از مدل‌های مبتنی بر الگوریتم برای تشخیص ناهنجاری‌ها. تست BMD برای محاسبه عمر استخوان و برآورد خطر شکستگی استفاده می‌شود. تحلیل دوم با اندازه‌گیری‌های کمی بر روی تکنیک‌های تصویربرداری مختلف انجام می‌شود، که در تصاویر اسکن استخوان برای نظارت بر ناهنجاری استفاده می‌شوند. تکنیک‌های تصویربرداری مهم شامل توموگرافی کامپیوتری کمی، QCT مبتنی بر مرزهای محیطی با رزولوشن بالا، فراصوت کمی و تکنیک‌های دیگر مورد بحث قرار می‌گیرند. در تکنیک‌های مبتنی بر مدل، ویژگی‌های اساسی تصویر به صورت خودکار استخراج شده و بر اساس رفتار مشابه گروه‌بندی می‌شوند و ویژگی‌های ناهنجار از مجموعه تصاویر استخراج می‌شوند.\n",
        "</div></div>"
      ],
      "metadata": {
        "id": "pcUx0UAt1AaO"
      }
    },
    {
      "cell_type": "markdown",
      "source": [
        "---"
      ],
      "metadata": {
        "id": "9NISrr_fNkOL"
      }
    },
    {
      "cell_type": "markdown",
      "source": [
        "<div dir=\"ltr\" align=\"justify\">\n",
        "<a href=\"https://link.springer.com/article/10.1007/s11517-020-02171-3\"><h2>Computer-aided diagnosis systems for osteoporosis detection: a comprehensive survey</h2></a>\n",
        "Abstract:\n",
        "Computer-aided diagnosis (CAD) has revolutionized the field of medical diagnosis. They assist in improving the treatment potentials and intensify the survival frequency by early diagnosing the diseases in an efficient, timely, and cost-effective way. The automatic segmentation has led the radiologist to successfully segment the region of interest to improve the diagnosis of diseases from medical images which is not so efficiently possible by manual segmentation. The aim of this paper is to survey the vision-based CAD systems especially focusing on the segmentation techniques for the pathological bone disease known as osteoporosis. Osteoporosis is the state of the bones where the mineral density of bones decreases and they become porous, making the bones easily susceptible to fractures by small injury or a fall. The article covers the image acquisition techniques for acquiring the medical images for osteoporosis diagnosis. The article also discusses the advanced machine learning paradigms employed in segmentation for osteoporosis disease. Other image processing steps in osteoporosis like feature extraction and classification are also briefly described. Finally, the paper gives the future directions to improve the osteoporosis diagnosis and presents the proposed architecture.<br><br>\n",
        "<img src=\"https://media.springernature.com/lw685/springer-static/image/art%3A10.1007%2Fs11517-020-02171-3/MediaObjects/11517_2020_2171_Figc_HTML.png\" alt=\"تصویر\">\n",
        "\n",
        "\n",
        "</div>"
      ],
      "metadata": {
        "id": "f15ds6Z4Nqj7"
      }
    },
    {
      "cell_type": "markdown",
      "source": [
        "<div dir=\"rtl\" align=\"justify\">\n",
        "<h2>\n",
        "سیستم‌های تشخیص به کمک کامپیوتر برای شناسایی اُستئوپروز: یک بررسی جامع\n",
        "</h2>\n",
        "\n",
        "چکیده:\n",
        "سیستم‌های تشخیص به کمک کامپیوتر (CAD) در زمینه تشخیص پزشکی انقلابی ایجاد کرده‌اند. آنها با کمک تشخیص زودهنگام، بهبود توانایی‌های درمانی را تسهیل و فراوانی بقا را افزایش می‌دهند. تقسیم‌بندی خودکار، پزشک تصویر را با موفقیت به بخش‌های مورد نظر تقسیم می‌کند و برای تشخیص بیماری‌ها از تصاویر پزشکی استفاده می‌شود که با تقسیم‌بندی دستی به این صورت کارآمد نیست. هدف این مقاله، بررسی سیستم‌های CAD مبتنی بر بینایی ماشین به خصوص در تکنیک‌های تقسیم‌بندی برای بیماری استخوانی پاتولوژیک به نام اُستئوپروز است. اُستئوپروز وضعیتی است که در آن چگالی معدنی استخوان‌ها کاهش یافته و ساختار آنها منفذ می‌شود، که باعث افزایش حساسیت استخوان‌ها به شکستگی ناشی از آسیب کوچک یا سقوط می‌شود. مقاله به تکنیک‌های دریافت تصاویر پزشکی برای تشخیص اُستئوپروز می‌پردازد. همچنین، الگوهای پیشرفته یادگیری ماشین استفاده شده در تقسیم‌بندی برای بیماری اُستئوپروز نیز به طور خلاصه توضیح داده می‌شود. مراحل پردازش تصویر دیگری نیز در اُستئوپروز مانند استخراج ویژگی و طبقه‌بندی به طور خلاصه شرح داده می‌شوند. در نهایت، مقاله به جهت‌های آینده برای بهبود تشخیص اُستئوپروز اشاره می‌کند و معماری پیشنهادی را ارائه می‌دهد.\n",
        "\n",
        "</div>"
      ],
      "metadata": {
        "id": "pF6KH0Tm1Adu"
      }
    },
    {
      "cell_type": "markdown",
      "source": [
        "---"
      ],
      "metadata": {
        "id": "ynagqpMxVXYs"
      }
    },
    {
      "cell_type": "markdown",
      "source": [
        "<div dir=\"ltr\" align=\"justify\">\n",
        "<a href=\"https://link.springer.com/article/10.1007/s10462-019-09799-0\"><h2>A survey of fracture detection techniques in bone X-ray images</h2></a>\n",
        "Abstract:\n",
        "Radiologists interprets X-ray samples by visually inspecting them to diagnose the presence of fractures in various bones. Interpretation of radiographs is a time-consuming and intense process involving manual examination of fractures. In addition, clinician’s shortage in medically under-resourced areas, unavailability of expert radiologists in busy clinical settings or fatigue caused due to demanding workloads could lead to false detection rate and poor recovery of the fractures. A comprehensive study is imparted here covering fracture diagnosis with the aim to assist investigators in developing models that automatically detects fracture in human bones. The paper is presented in five folds. Firstly, we discuss data preparation stage. Second, we present various image-processing techniques used for fracture detection. Third, we analyze conventional and deep learning based techniques for diagnosing bone fractures. Fourth, we make comparative analysis of existing techniques. Fifth, we discuss different issues and challenges faced by researches while dealing with fracture detection.\n",
        "\n",
        "</div>"
      ],
      "metadata": {
        "id": "3E9cPIXziTQF"
      }
    },
    {
      "cell_type": "markdown",
      "source": [
        "<div dir=\"rtl\" align=\"justify\">\n",
        "<h2>\n",
        "مروری بر فنون تشخیص شکستگی در تصاویر اشعه ای استخوان\n",
        "</h2>\n",
        "\n",
        "چکیده:\n",
        "پزشکان رادیولوژی با بررسی بصری نمونه‌های اشعه ای، شکستگی ها را در انواع مختلف استخوان‌ها تشخیص می‌دهند. تفسیر اشعه ای زمان‌بر و فرآیند فشرده‌ای است که شامل بررسی دستی شکستگی ها می‌شود. علاوه بر این، کمبود پزشکان در مناطق با منابع پزشکی کم، عدم دسترسی به رادیولوژیستان متخصص در محیط‌های بالینی پرکار یا خستگی ناشی از بار کاری فشرده ممکن است منجر به نرخ تشخیص غلط و بهبود ناکافی شکستگی ها شود. در اینجا یک مطالعه جامع در خصوص تشخیص شکستگی با هدف کمک به محققان در توسعه مدل‌هایی که به صورت خودکار شکستگی ها را در استخوان‌های انسان تشخیص می‌دهند، ارائه شده است. مقاله در پنج بخش ارائه می‌شود. ابتدا، مرحله آماده‌سازی داده‌ها را بررسی می‌کنیم. سپس، انواع فنون پردازش تصویر مورد استفاده در تشخیص شکستگی را معرفی می‌کنیم. سوم، تکنیک‌های مبتنی بر یادگیری عمیق و سنتی برای تشخیص شکستگی استخوان را تحلیل می‌کنیم. چهارم، تحلیل مقایسه‌ای از تکنیک‌های موجود را ارائه می‌دهیم. پنجم، مسائل و چالش‌های مختلفی که پژوهشگران در هنگام تشخیص شکستگی با آنها روبرو می‌شوند را بررسی می‌کنیم.\n",
        "</div>"
      ],
      "metadata": {
        "id": "UNoRiP79i-v2"
      }
    },
    {
      "cell_type": "markdown",
      "source": [
        "---"
      ],
      "metadata": {
        "id": "84oyDXYakHjz"
      }
    },
    {
      "cell_type": "markdown",
      "source": [
        "<div dir=\"ltr\" align=\"justify\">\n",
        "<a href=\"https://ieeexplore.ieee.org/abstract/document/9065874\"><h2>A Review on Bone Fracture Detection Techniques using Image Processing</h2></a>\n",
        "Abstract:\n",
        "The bone fracture emerges as the common health challenge in human beings, which occur due to the accident or other causes like bone cancer etc. The fracture possibly can occur in any bone of the human body like wrist, hip, heel, ankle, rib, leg, chest and so on. But sometimes the X- ray images of bone fracture lacks the sufficient details required for diagnosis. Recently, image This paper exhibits an investigation of picture preparing strategies for bone crack recognition. This paper will assist the healthcare practitioners by studying diverse strategies for bone break location by efficiently utilizing the picture handling and to plan new methods to improve the precision of crack identification. The strategies have been recorded with simplicity of understanding. The paper is the first of its sort to review the bone break location strategies crosswise over various modalities.\n",
        "</div>"
      ],
      "metadata": {
        "id": "anyXTX6MkQ9v"
      }
    },
    {
      "cell_type": "markdown",
      "source": [
        "<div dir=\"rtl\" align=\"justify\">\n",
        "<h2>\n",
        "مروری بر فنون تشخیص شکستگی استخوان با استفاده از پردازش تصویر\n",
        "</h2>\n",
        "\n",
        "چکیده:\n",
        "شکستگی استخوان به عنوان یک چالش مشترک سلامت در انسان‌ها بروز می‌کند که ناشی از تصادف یا علل دیگری مانند سرطان استخوان و غیره است. شکستگی ممکن است در هر استخوانی از بدن انسان رخ دهد مانند مچ دست، لگن، ساق پا، پاشنه، ریب، پا، سینه و غیره. اما گاهی اوقات تصاویر اشعه ای شکستگی استخوان، جزئیات کافی برای تشخیص را ندارند. در این مقاله، بررسی و بررسی استراتژی‌های پردازش تصویر برای تشخیص شکستگی استخوان ارائه می‌شود. این مقاله به پزشکان و متخصصان بهداشتی در مطالعه راهکارهای متنوع تشخیص شکستگی استخوان با استفاده بهینه از پردازش تصویر کمک خواهد کرد و روش‌های جدیدی برای بهبود دقت تشخیص شکستگی طراحی کند. استراتژی‌ها با سادگی درک شده‌اند. این مقاله برای اولین بار است که استراتژی‌های تشخیص شکستگی استخوان را در اختیار مخاطبان در تمامی مدالیتها مورد بررسی قرار می‌دهد.\n",
        "</div>"
      ],
      "metadata": {
        "id": "KVIp53aJknHn"
      }
    },
    {
      "cell_type": "markdown",
      "source": [
        "---"
      ],
      "metadata": {
        "id": "8fgzl8nvlAqB"
      }
    },
    {
      "cell_type": "markdown",
      "source": [
        "<div dir=\"ltr\" align=\"justify\">\n",
        "<a href=\"https://onlinelibrary.wiley.com/doi/abs/10.1002/jmri.26534\"><h2>Deep learning in radiology: An overview of the concepts and a survey of the state of the art with focus on MRI</h2></a>\n",
        "Abstract:\n",
        "Deep learning is a branch of artificial intelligence where networks of simple interconnected units are used to extract patterns from data in order to solve complex problems. Deep-learning algorithms have shown groundbreaking performance in a variety of sophisticated tasks, especially those related to images. They have often matched or exceeded human performance. Since the medical field of radiology mainly relies on extracting useful information from images, it is a very natural application area for deep learning, and research in this area has rapidly grown in recent years. In this article, we discuss the general context of radiology and opportunities for application of deep-learning algorithms. We also introduce basic concepts of deep learning, including convolutional neural networks. Then, we present a survey of the research in deep learning applied to radiology. We organize the studies by the types of specific tasks that they attempt to solve and review a broad range of deep-learning algorithms being utilized. Finally, we briefly discuss opportunities and challenges for incorporating deep learning in the radiology practice of the future.\n",
        "</div>"
      ],
      "metadata": {
        "id": "wnTXhQVkmXlK"
      }
    },
    {
      "cell_type": "markdown",
      "source": [
        "<div dir=\"rtl\" align=\"justify\">\n",
        "<h2>\n",
        "یادگیری عمیق در رادیولوژی: بررسی مفاهیم و بررسی وضعیت هنر با تمرکز بر MRI\n",
        "</h2>\n",
        "\n",
        "چکیده:\n",
        "یادگیری عمیق یک شاخه از هوش مصنوعی است که شبکه‌های واحدهای ساده و متصل به هم برای استخراج الگوها از داده‌ها جهت حل مسائل پیچیده استفاده می‌شوند. الگوریتم‌های یادگیری عمیق عملکرد بسیار برجسته‌ای در تعدادی از وظایف پیچیده، به ویژه وظایف مرتبط با تصاویر، نشان داده‌اند. آنها اغلب عملکرد انسان را برابر یا حتی بالاتر از انسان به دست آورده‌اند. از آنجایی که حوزه پزشکی رادیولوژی عمدتاً بر استخراج اطلاعات مفید از تصاویر تکیه می‌کند، این یک ناحیه بسیار طبیعی برای کاربرد یادگیری عمیق است و پژوهش‌ها در این حوزه در سال‌های اخیر به شدت رشد کرده‌اند. در این مقاله، ما درباره زمینه عمومی رادیولوژی و فرصت‌های کاربرد الگوریتم‌های یادگیری عمیق بحث می‌کنیم. همچنین مفاهیم اصلی یادگیری عمیق، از جمله شبکه‌های عصبی کانولوشنی را معرفی می‌کنیم. سپس، یک بررسی از تحقیقات در حوزه یادگیری عمیق در رادیولوژی ارائه می‌دهیم. ما مطالعات را بر اساس نوع وظایف خاصی که سعی در حل آنها دارند، سازماندهی می‌کنیم و مجموعه گسترده‌ای از الگوریتم‌های یادگیری عمیق مورد استفاده را مورد بررسی قرار می‌دهیم. در نهایت، به طور خلاصه، فرصت‌ها و چالش‌های بهره‌برداری از یادگیری عمیق در روش رادیولوژی در آینده را مورد بحث قرار می‌دهیم.\n",
        "</div>"
      ],
      "metadata": {
        "id": "LyKmEenEnoFT"
      }
    },
    {
      "cell_type": "markdown",
      "source": [
        "---"
      ],
      "metadata": {
        "id": "NEgAoCrckGAO"
      }
    },
    {
      "cell_type": "markdown",
      "source": [
        "<div dir=\"ltr\" align=\"justify\">\n",
        "<a href=\"https://ieeexplore.ieee.org/abstract/document/8777693\"><h2>Analysis of X-Ray Images with Image Processing Techniques: A Review</h2></a>\n",
        "Abstract:\n",
        "Human body suffers from various problems it consists of different parts such as legs, hands, bones, bones get cracked or discontinuity most of the times due to pressure applied on it which may be due to the accident, sports while playing etc. Osteoporosis is one of the major problems occurs due to extra use of bones radiologist suggests the patients take x-ray images of the bones for diagnosis purpose. This study is a tutorial review on medical imaging processing and repository techniques appeared in the literature. Many times, it is difficult and time-consuming to find out the location of fracture in the patient who is suffering from pain. Today medical imaging technique played the significant role in research and diagnosis field. X-ray imaging technique is used to diagnose and also used to represent anatomical structures such as bones, in human beings. This paper is a tutorial review of X-ray imaging technique which is used to detect bone fractures and then the obtained image is processed by different image processing methods such as Computer Aided Diagnosis, Edge Detection, segmentation which are beneficial for technicians.\n",
        "</div>"
      ],
      "metadata": {
        "id": "lQOQWle9oMxU"
      }
    },
    {
      "cell_type": "markdown",
      "source": [
        "<div dir=\"rtl\" align=\"justify\">\n",
        "<h2>\n",
        " تحلیل تصاویر اشعه ایکس با استفاده از تکنیک های پردازش تصویر: بررسی\n",
        " </h2>\n",
        "\n",
        "چکیده:\n",
        "بدن انسان از مشکلات مختلفی رنج می‌برد و شامل بخش‌های مختلفی مانند پاها، دست‌ها و استخوان‌ها می‌شود. استخوان‌ها بیشترین زمان به خاطر فشاری که بر روی آنها وارد می‌شود مثل تصادفات، ورزش در حین بازی و غیره شکسته یا بهم می‌خورند. از جمله مشکلات عمده استئوپروزیس (کاهش چگالی استخوان) است که به دلیل استفاده بیش از حد از استخوان‌ها رخ می‌دهد و پزشکان برای تشخیص آن پیشنهاد می‌دهند تصاویر اشعه ایکس از استخوان‌ها بگیرند. این مطالعه یک مرور آموزشی درباره تکنیک‌های پردازش تصویر پزشکی و روش‌های ذخیره سازی است که در ادبیات منتشر شده است. بسیاری اوقات پیدا کردن محل شکست در بیماری که از درد رنج می‌برد سخت و زمان‌بر است. امروزه تکنیک تصویربرداری پزشکی نقش مهمی در زمینه پژوهش و تشخیص ایفا می‌کند. تکنیک تصویربرداری اشعه ایکس برای تشخیص استخوان‌ها در انسان‌ها استفاده می‌شود. این مقاله یک مرور آموزشی از تکنیک تصویربرداری اشعه ایکس است که برای تشخیص شکست استخوان استفاده می‌شود و سپس تصویر به دست آمده توسط روش‌های مختلف پردازش تصویر مانند تشخیص کمک‌رایانه‌ای، تشخیص لبه و بازه بندی پردازش می‌شود که برای تکنسین‌ها مفید است.\n",
        "</div>"
      ],
      "metadata": {
        "id": "eJ4aEVdGohGl"
      }
    },
    {
      "cell_type": "markdown",
      "source": [
        "---"
      ],
      "metadata": {
        "id": "ZBKBFICJNoGg"
      }
    },
    {
      "cell_type": "markdown",
      "source": [
        "<div dir=\"ltr\" align=\"justify\">\n",
        "<a href=\"https://www.sciencedirect.com/science/article/abs/pii/S0169260715002400\"><h2>Long-bone fracture detection in digital X-ray images based on digital-geometric techniques</h2></a>\n",
        "Abstract:\n",
        "Automated fracture detection is an essential part of a computer-aided tele-medicine system. In this paper, we have proposed a unified technique for the detection and evaluation of orthopaedic fractures in long-bone digital X-ray image. We have also developed a software tool that can be conveniently used by paramedics or specialist doctors. The proposed tool first segments the bone region of an input digital X-ray image from its surrounding flesh region and then generates the bone-contour using an adaptive thresholding approach. Next, it performs unsupervised correction of bone-contour discontinuities that might have been generated because of segmentation errors, and finally detects the presence of fracture in the bone. Moreover, the method can also localize the line-of-break for easy visualization of the fracture, identify its orientation, and assess the extent of damage in the bone. Several concepts from digital geometry such as relaxed straightness and concavity index are utilized to correct contour imperfections, and to detect fracture locations and type. Experiments on a database of several long-bone digital X-ray images show satisfactory results.\n",
        "</div>"
      ],
      "metadata": {
        "id": "uTohn6gJpEAM"
      }
    },
    {
      "cell_type": "markdown",
      "source": [
        "<div dir=\"rtl\" align=\"justify\">\n",
        "<h2>\n",
        "تشخیص شکستگی استخوانهای بلند در تصاویر دیجیتال اشعه ایکس با استفاده از تکنیک های دیجیتال-هندسی </h2>\n",
        "\n",
        "چکیده:\n",
        "تشخیص خودکار شکستگی یک بخش اساسی از یک سیستم تله پزشکی کمک کامپیوتری است. در این مقاله، ما یک تکنیک یکپارچه برای تشخیص و ارزیابی شکستگی های ارتوپدی در تصاویر دیجیتال اشعه ایکس استخوانهای بلند پیشنهاد کرده ایم. همچنین، یک ابزار نرم افزاری توسعه داده شده است که به راحتی توسط پارامدیک ها یا پزشکان متخصص قابل استفاده است. ابزار پیشنهادی ابتدا منطقه استخوان را از منطقه بافت محیطی آن در تصویر دیجیتال اشعه ایکس ورودی جدا می کند و سپس با استفاده از رویکرد آستانه گذاری تطبیقی، مرز استخوان را تولید می کند. در مرحله بعد، این ابزار اصلاح خودکار اندکی در ناپیوستگی های مرز استخوان انجام می دهد که ممکن است به دلیل خطاهایی در مرحله تقسیم‌بندی تولید شده باشد و در نهایت حضور شکستگی را در استخوان تشخیص می دهد. علاوه بر این، این روش قادر است محل شکستگی را مشخص کند تا به تصویرسازی آسان شکستگی کمک کند، جهت آن را تشخیص دهد و میزان آسیب در استخوان را ارزیابی کند. تعدادی از مفاهیم هندسه دیجیتال مانند استقامت آرام و شاخص خمیدگی برای اصلاح ناهمواری های مرز، تشخیص محل و نوع شکستگی استفاده می شوند. آزمایشات روی یک پایگاه داده از تصاویر دیجیتال اشعه ایکس استخوانهای بلند نشان دهنده نتایج قابل قبولی هستند.\n",
        "</div>"
      ],
      "metadata": {
        "id": "MLmJ3baqxAAe"
      }
    }
  ]
}
